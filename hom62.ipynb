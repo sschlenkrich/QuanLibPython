{
 "cells": [
  {
   "cell_type": "markdown",
   "metadata": {},
   "source": [
    "# IRMDP: Homework 6.2 and 6.3"
   ]
  },
  {
   "cell_type": "markdown",
   "metadata": {},
   "source": [
    "Implementation is according to [testSensitivity.py](https://github.com/sschlenkrich/QuantLibPython/blob/master/testSensitivity.py)."
   ]
  },
  {
   "cell_type": "markdown",
   "metadata": {},
   "source": [
    "## Importing of classes and necessary setting as in testSensitivity.py"
   ]
  },
  {
   "cell_type": "code",
   "execution_count": 1,
   "metadata": {},
   "outputs": [],
   "source": [
    "import sys, os, io, copy, time\n",
    "if locals().get('__file__'):\n",
    "    sys.path.append(os.path.join(os.path.dirname(__file__),'QuantLibWrapper'))\n",
    "else:\n",
    "    sys.path.append(os.path.join(os.getcwd(),'QuantLibWrapper'))\n",
    "import matplotlib.pyplot as plt\n",
    "\n",
    "import numpy as np\n",
    "import pandas as pd\n",
    "from itertools import product\n",
    "\n",
    "import QuantLib as ql\n",
    "\n",
    "from QuantLibWrapper import YieldCurve, Swap, Swaption, createSwaption, \\\n",
    "    HullWhiteModel, HullWhiteModelFromSwaption, BermudanSwaption, PDESolver, \\\n",
    "    DensityIntegrationWithBreakEven, CubicSplineExactIntegration, \\\n",
    "    SimpsonIntegration, HermiteIntegration\n",
    "from QuantLibWrapper.YieldCurve import YieldCurve"
   ]
  },
  {
   "cell_type": "code",
   "execution_count": 2,
   "metadata": {},
   "outputs": [
    {
     "name": "stdout",
     "output_type": "stream",
     "text": [
      "swaptionStrike = 0.1048\n"
     ]
    }
   ],
   "source": [
    "terms = [    '1y',    '2y',    '3y',    '4y',    '5y',    '6y',    '7y',    '8y',    '9y',   '10y',   '12y',   '15y',   '20y',   '25y',   '30y' ] \n",
    "rates = [ 2.70e-2, 2.75e-2, 2.80e-2, 3.00e-2, 3.36e-2, 3.68e-2, 3.97e-2, 4.24e-2, 4.50e-2, 4.75e-2, 4.75e-2, 4.70e-2, 4.50e-2, 4.30e-2, 4.30e-2 ] \n",
    "\n",
    "if False:\n",
    "    terms = [ '30y'   ]  # flat curve\n",
    "    rates = [ 5.00e-2 ] \n",
    "rates2 = [ r+0.005 for r in rates ]\n",
    "\n",
    "discCurve = YieldCurve(terms,rates)\n",
    "projCurve = YieldCurve(terms,rates)\n",
    "\n",
    "a = 0.03 # mean reversion\n",
    "vol = 0.01\n",
    "h = 1.0e-12\n",
    "\n",
    "swaptionStrike = createSwaption('10y','10y',discCurve,projCurve).fairRate() \\\n",
    "                 + vol * np.sqrt(10.0) * np.sqrt(3.0)\n",
    "swaptionStrike = 0.1048\n",
    "print('swaptionStrike = ' + str(swaptionStrike))"
   ]
  },
  {
   "cell_type": "markdown",
   "metadata": {},
   "source": [
    "## Computation"
   ]
  },
  {
   "cell_type": "code",
   "execution_count": 3,
   "metadata": {},
   "outputs": [],
   "source": [
    "def compute_integration(method,n_grid_points=101,lambda_std_devs=5,hs=[10.0**(-k) for k in range(3,18)]):\n",
    "    res = []\n",
    "    assert method in [SimpsonIntegration,CubicSplineExactIntegration,HermiteIntegration], 'the method is not allowed'\n",
    "    if isinstance(n_grid_points,int): n_grid_points = [n_grid_points]\n",
    "    if isinstance(lambda_std_devs,int): lambda_std_devs = [lambda_std_devs]\n",
    "    args = pd.DataFrame(list(product(n_grid_points,lambda_std_devs,hs)), columns=['n_grid_points','lambda_std_devs','h'])\n",
    "    for _,arg in args.iterrows():\n",
    "        h = arg['h']\n",
    "        n = arg['n_grid_points']\n",
    "        l = arg['lambda_std_devs']\n",
    "        print('h = ' + str(h))\n",
    "        # swaptions\n",
    "        s0 = createSwaption('10y','10y',discCurve,projCurve,strike=swaptionStrike,normalVolatility=vol)\n",
    "        sp = createSwaption('10y','10y',discCurve,projCurve,strike=swaptionStrike,normalVolatility=vol+h)\n",
    "        sm = createSwaption('10y','10y',discCurve,projCurve,strike=swaptionStrike,normalVolatility=vol-h)\n",
    "        # models\n",
    "        h0 = HullWhiteModelFromSwaption(s0,a)\n",
    "        hp = HullWhiteModelFromSwaption(sp,a)\n",
    "        hm = HullWhiteModelFromSwaption(sm,a)\n",
    "        if False:\n",
    "            # Berms via PDE\n",
    "            p0 = BermudanSwaption([s0],a,model=h0,method=PDESolver(h0,n,3.0,0.5,1.0/12.0))\n",
    "            pp = BermudanSwaption([sp],a,model=hp,method=PDESolver(hp,n,3.0,0.5,1.0/12.0))\n",
    "            pm = BermudanSwaption([sm],a,model=hm,method=PDESolver(hm,n,3.0,0.5,1.0/12.0))\n",
    "        # Berms via density integration\n",
    "        i10 = BermudanSwaption([s0],a,model=h0,method=method(h0,n,l))\n",
    "        i1p = BermudanSwaption([sp],a,model=hp,method=method(hp,n,l))\n",
    "        i1m = BermudanSwaption([sm],a,model=hm,method=method(hm,n,l))\n",
    "        \n",
    "        i20 = BermudanSwaption([s0],a,model=h0,method=DensityIntegrationWithBreakEven(method(h0,n,l)))\n",
    "        i2p = BermudanSwaption([sp],a,model=hp,method=DensityIntegrationWithBreakEven(method(hp,n,l)))\n",
    "        i2m = BermudanSwaption([sm],a,model=hm,method=DensityIntegrationWithBreakEven(method(hm,n,l)))\n",
    "\n",
    "        res.append([ h, n,l,s0.vega(),\n",
    "            s0.npv(),            sp.npv(),            sm.npv(),\n",
    "            s0.npvHullWhite(h0), sp.npvHullWhite(hp), sm.npvHullWhite(hm),\n",
    "            #p0.npv(),            pp.npv(),            pm.npv(),\n",
    "            i10.npv(),            i1p.npv(),            i1m.npv(),\n",
    "            i20.npv(),            i2p.npv(),            i2m.npv()\n",
    "        ])\n",
    "    column = [ 'h', 'n_grid_points', 'lambda_std_devs', 'Vega', 'B0', 'Bp', 'Bm', 'H0', 'Hp', 'Hm','I0','Ip','Im','I_be_0', 'I_be_p', 'I_be_m']\n",
    "    return pd.DataFrame(dict(zip(column,np.array(res).T)))\n"
   ]
  },
  {
   "cell_type": "code",
   "execution_count": 161,
   "metadata": {},
   "outputs": [],
   "source": [
    "def compute_integration2(method,n_grid_points=101,lambda_std_devs=5,hs=[10.0**(-k) for k in range(3,18)],break_even=True,degree=None):\n",
    "    res = []\n",
    "    assert method in [SimpsonIntegration,CubicSplineExactIntegration,HermiteIntegration], 'the method is not allowed'\n",
    "    if method == HermiteIntegration:\n",
    "        assert isinstance(degree,int), 'degree must be integer'\n",
    "    if isinstance(n_grid_points,int): n_grid_points = [n_grid_points]\n",
    "    if isinstance(lambda_std_devs,int): lambda_std_devs = [lambda_std_devs]\n",
    "    args = pd.DataFrame(list(product(n_grid_points,lambda_std_devs,hs)), columns=['n_grid_points','lambda_std_devs','h'])\n",
    "    for _,arg in args.iterrows():\n",
    "        h = arg['h']\n",
    "        n = arg['n_grid_points']\n",
    "        l = arg['lambda_std_devs']\n",
    "        print('h = ' + str(h))\n",
    "        # swaptions\n",
    "        s0 = createSwaption('10y','10y',discCurve,projCurve,strike=swaptionStrike,normalVolatility=vol)\n",
    "        sp = createSwaption('10y','10y',discCurve,projCurve,strike=swaptionStrike,normalVolatility=vol+h)\n",
    "        sm = createSwaption('10y','10y',discCurve,projCurve,strike=swaptionStrike,normalVolatility=vol-h)\n",
    "        # models\n",
    "        h0 = HullWhiteModelFromSwaption(s0,a)\n",
    "        hp = HullWhiteModelFromSwaption(sp,a)\n",
    "        hm = HullWhiteModelFromSwaption(sm,a)\n",
    "        # Berms via density integration\n",
    "        kwargs = {\n",
    "            '0':{'hwModel':h0,'nGridPoints':n,'stdDevs':l},\n",
    "            'p':{'hwModel':hp,'nGridPoints':n,'stdDevs':l},\n",
    "            'm':{'hwModel':hm,'nGridPoints':n,'stdDevs':l}\n",
    "        }\n",
    "        if method.__name__ == 'HermiteIntegration':\n",
    "            for k,v in kwargs.items():\n",
    "                v.update({'degree':degree})\n",
    "        i10 = BermudanSwaption([s0],a,model=h0,method=method(**kwargs['0']))\n",
    "        i1p = BermudanSwaption([sp],a,model=hp,method=method(**kwargs['p']))\n",
    "        i1m = BermudanSwaption([sm],a,model=hm,method=method(**kwargs['m']))\n",
    "        res.append([ h, n,l,False, s0.vega(),\n",
    "            s0.npv(),            sp.npv(),            sm.npv(),\n",
    "            s0.npvHullWhite(h0), sp.npvHullWhite(hp), sm.npvHullWhite(hm),\n",
    "            i10.npv(),            i1p.npv(),            i1m.npv()\n",
    "        ])\n",
    "        if break_even:\n",
    "            i20 = BermudanSwaption([s0],a,model=h0,method=DensityIntegrationWithBreakEven(method(**kwargs['0'])))\n",
    "            i2p = BermudanSwaption([sp],a,model=hp,method=DensityIntegrationWithBreakEven(method(**kwargs['p'])))\n",
    "            i2m = BermudanSwaption([sm],a,model=hm,method=DensityIntegrationWithBreakEven(method(**kwargs['m'])))\n",
    "            res.append([ h, n,l,True, s0.vega(),\n",
    "                s0.npv(),            sp.npv(),            sm.npv(),\n",
    "                s0.npvHullWhite(h0), sp.npvHullWhite(hp), sm.npvHullWhite(hm),\n",
    "                i20.npv(),           i2p.npv(),           i2m.npv()\n",
    "            ])\n",
    "    column = [ 'h', 'n_grid_points', 'lambda_std_devs', 'break_even', 'Vega', 'B0', 'Bp', 'Bm', 'H0', 'Hp', 'Hm','I0','Ip','Im']\n",
    "    ret = pd.DataFrame(dict(zip(column,np.array(res).T)))\n",
    "    ret['density_integration_method'] = method.__name__\n",
    "    ret['density_integration_method'].astype(str)\n",
    "    ret['degree'] = 0\n",
    "    if method.__name__ == 'HermiteIntegration':\n",
    "        ret['degree'] = degree\n",
    "    ret['degree'].astype(int)\n",
    "    return ret"
   ]
  },
  {
   "cell_type": "code",
   "execution_count": null,
   "metadata": {},
   "outputs": [],
   "source": [
    "def compute_integration2_multiple(n_grid_points=101,lambda_std_devs=5,hs=[10.0**(-k) for k in range(3,18)],break_even=True,degree=3):\n",
    "    table = list()\n",
    "    timetable = []\n",
    "    if not isinstance(degree,list):\n",
    "        degree = [degree]\n",
    "    for method in [SimpsonIntegration,CubicSplineExactIntegration]:\n",
    "        start = time.time()\n",
    "        tmp = compute_integration2(method=method,n_grid_points=n_grid_points,lambda_std_devs=lambda_std_devs,hs=hs,break_even=break_even)\n",
    "        end = time.time()\n",
    "        table.append(tmp)\n",
    "        timetable.append([method.__name__,None,end-start])\n",
    "        del tmp\n",
    "    for d in degree:\n",
    "        start = time.time()\n",
    "        tmp = compute_integration2(method=HermiteIntegration,n_grid_points=n_grid_points,lambda_std_devs=lambda_std_devs,hs=hs,break_even=break_even,degree=d)\n",
    "        end = time.time()\n",
    "        table.append(tmp)\n",
    "        timetable.append(['HermiteIntegration',d,end-start])\n",
    "        del tmp\n",
    "        \n",
    "    return pd.concat(table),pd.DataFrame(timetable,columns=['method','degree','comp_time'])"
   ]
  },
  {
   "cell_type": "code",
   "execution_count": 81,
   "metadata": {},
   "outputs": [],
   "source": [
    "def plotRelativeError(table,id,title=''):\n",
    "    fig = plt.figure(figsize=(6, 4))\n",
    "    # upward derivative\n",
    "    vega = (table[id+'p']-table[id+'0'])/table['h']*1.0e-4\n",
    "    relError = abs(vega/table['Vega']-1)\n",
    "    plt.loglog(table['h'],relError,label='Upward')\n",
    "    # downward derivative\n",
    "    vega = (table[id+'0']-table[id+'m'])/table['h']*1.0e-4\n",
    "    relError = abs(vega/table['Vega']-1)\n",
    "    plt.loglog(table['h'],relError,label='Downward')\n",
    "    # two-sided derivative\n",
    "    vega = (table[id+'p']-table[id+'m'])/table['h']/2.0*1.0e-4\n",
    "    relError = abs(vega/table['Vega']-1)\n",
    "    plt.loglog(table['h'],relError,label='Two-sided')\n",
    "    # plot properties\n",
    "    plt.xlabel('shift size h')\n",
    "    plt.ylabel('|RelError|')\n",
    "    plt.title(title)\n",
    "    plt.ylim(1.0e-11,10.0)\n",
    "    plt.legend()"
   ]
  },
  {
   "cell_type": "code",
   "execution_count": 214,
   "metadata": {},
   "outputs": [],
   "source": [
    "def plotRelativeError2(table,id,leg1,leg2=None,integration_method=['Two-sided','Upward','Downward'],title='',ylim=None):\n",
    "    if False:\n",
    "        table = table_simpson\n",
    "        id = 'I'\n",
    "        leg1='n_grid_points'\n",
    "        leg2='density_integration_method'\n",
    "        leg2='break_even'\n",
    "        title='SimpsonIntegration'\n",
    "        integration_method=['Two-sided','Upward','Downward']\n",
    "        ylim=None\n",
    "    fig = plt.figure(figsize=(6, 4))\n",
    "\n",
    "    val1 = sorted(set(table[leg1]))\n",
    "    color_list = ['#1f77b4','#ff7f0e','#2ca02c','#d62728','#9467bd','#8c564b']\n",
    "    colors = dict(zip(val1,color_list[:len(val1)]))\n",
    "\n",
    "    integration_args = dict(zip(['Upward','Downward','Two-sided'],[['p','0'],['0','m'],['p','m']]))\n",
    "    if leg2 is None:\n",
    "        val2 = integration_method\n",
    "    else:\n",
    "        if isinstance(integration_method,list) and len(integration_method) != 1:\n",
    "            integration_method_selected = 'Two-sided'\n",
    "            print('Multiple integration methods were given, only one can be executed, default: Two-sided')\n",
    "        else:\n",
    "            integration_method_selected = integration_method\n",
    "        val2 = sorted(set(table[leg2]))\n",
    "    linestyles_list = ['-', '--', ':','-.']\n",
    "    linestyles = dict(zip(val2,linestyles_list[:len(val2)]))\n",
    "    leg_values = []\n",
    "    for i1,l1 in enumerate(val1):\n",
    "        if table[leg1].dtype is pd.DataFrame(['']).dtypes[0]:\n",
    "            tmp1 = table.query(\"{0}=='{1}'\".format(leg1,l1))\n",
    "        else:\n",
    "            tmp1 = table.query('{0}=={1}'.format(leg2,l1))\n",
    "        \n",
    "        for i2,l2 in enumerate(val2):\n",
    "            if leg2 is None:\n",
    "                arg = integration_args[l2]\n",
    "            else:\n",
    "                arg = integration_args[integration_method_selected]\n",
    "            if tmp1[leg2].dtype is pd.DataFrame(['']).dtypes[0]:\n",
    "                tmp2 = tmp1.query(\"{0}=='{1}'\".format(leg2,l2))\n",
    "            else:\n",
    "                tmp2 = tmp1.query('{0}=={1}'.format(leg2,l2))\n",
    "            vega = (tmp2[id+arg[0]]-tmp2[id+arg[1]])/tmp2['h']*1.0e-4\n",
    "            relError = abs(vega/tmp2['Vega']-1)\n",
    "\n",
    "            leg_values.extend(plt.loglog(tmp2['h'],relError,linestyle=linestyles[l2],c=colors[l1],label='%s;%s'%(str(l2),str(l1))))\n",
    "    leg_values1 = [i for i in leg_values if i.get_linestyle() is '-']\n",
    "    fl = plt.legend(\n",
    "        leg_values1, [i.get_label().split(';')[1] for i in leg_values1], \n",
    "        bbox_to_anchor=(1.05, 1), loc=2, borderaxespad=0., title = leg1, frameon=False\n",
    "    )\n",
    "    ax = plt.gca().add_artist(fl)\n",
    "    leg_values2 = [i for i in leg_values if i.get_c() == color_list[0]]\n",
    "    plt.legend(\n",
    "        leg_values2, [i.get_label().split(';')[0] for i in leg_values2],\n",
    "        bbox_to_anchor=(1.05, 0), loc=3, borderaxespad=0., title = leg2 if leg2 is not None else 'Int method',frameon=False\n",
    "    )\n",
    "    plt.xlabel('shift size h')\n",
    "    plt.ylabel('|RelError|')\n",
    "    plt.title(title)\n",
    "    if ylim is not None:\n",
    "        plt.ylim(ylim[0],ylim[1])"
   ]
  },
  {
   "cell_type": "markdown",
   "metadata": {},
   "source": [
    "## Analyse"
   ]
  },
  {
   "cell_type": "code",
   "execution_count": 82,
   "metadata": {},
   "outputs": [
    {
     "name": "stdout",
     "output_type": "stream",
     "text": [
      "5.73 s ± 0 ns per loop (mean ± std. dev. of 1 run, 1 loop each)\n"
     ]
    }
   ],
   "source": [
    "%%timeit -r 1\n",
    "%%capture\n",
    "table = compute_integration(SimpsonIntegration,n_grid_points=[51,101,201],hs=[10.0**(-k) for k in range(3,5)])"
   ]
  },
  {
   "cell_type": "code",
   "execution_count": 83,
   "metadata": {},
   "outputs": [
    {
     "data": {
      "image/png": "[encoded data removed]",
      "text/plain": [
       "<Figure size 432x288 with 1 Axes>"
      ]
     },
     "metadata": {
      "needs_background": "light"
     },
     "output_type": "display_data"
    }
   ],
   "source": [
    "table1 = table.query('n_grid_points==51')\n",
    "plotRelativeError(table1,'I')"
   ]
  },
  {
   "cell_type": "markdown",
   "metadata": {},
   "source": [
    "### 6.2 (a) Simpson's method"
   ]
  },
  {
   "cell_type": "code",
   "execution_count": 254,
   "metadata": {},
   "outputs": [],
   "source": [
    "%%capture\n",
    "table_simpson = compute_integration2(SimpsonIntegration,n_grid_points=[51,101,201])"
   ]
  },
  {
   "cell_type": "code",
   "execution_count": 261,
   "metadata": {},
   "outputs": [
    {
     "data": {
      "image/png": "[encoded data removed]",
      "text/plain": [
       "<Figure size 432x288 with 1 Axes>"
      ]
     },
     "metadata": {
      "needs_background": "light"
     },
     "output_type": "display_data"
    }
   ],
   "source": [
    "plotRelativeError2(table_simpson,'I',leg1='n_grid_points',leg2='break_even',title='SimpsonIntegration',integration_method='Two-sided')"
   ]
  },
  {
   "cell_type": "code",
   "execution_count": 126,
   "metadata": {},
   "outputs": [],
   "source": []
  },
  {
   "cell_type": "code",
   "execution_count": 217,
   "metadata": {},
   "outputs": [],
   "source": [
    "%%capture\n",
    "table, comp_time = compute_integration2_multiple(hs=[10**(-i) for i in [3,5]])"
   ]
  },
  {
   "cell_type": "code",
   "execution_count": 252,
   "metadata": {},
   "outputs": [
    {
     "data": {
      "text/html": [
       "<div>\n",
       "<style scoped>\n",
       "    .dataframe tbody tr th:only-of-type {\n",
       "        vertical-align: middle;\n",
       "    }\n",
       "\n",
       "    .dataframe tbody tr th {\n",
       "        vertical-align: top;\n",
       "    }\n",
       "\n",
       "    .dataframe thead th {\n",
       "        text-align: right;\n",
       "    }\n",
       "</style>\n",
       "<table border=\"1\" class=\"dataframe\">\n",
       "  <thead>\n",
       "    <tr style=\"text-align: right;\">\n",
       "      <th></th>\n",
       "      <th>h</th>\n",
       "      <th>n_grid_points</th>\n",
       "      <th>lambda_std_devs</th>\n",
       "      <th>break_even</th>\n",
       "      <th>Vega</th>\n",
       "      <th>B0</th>\n",
       "      <th>Bp</th>\n",
       "      <th>Bm</th>\n",
       "      <th>H0</th>\n",
       "      <th>Hp</th>\n",
       "      <th>Hm</th>\n",
       "      <th>I0</th>\n",
       "      <th>Ip</th>\n",
       "      <th>Im</th>\n",
       "      <th>density_integration_method</th>\n",
       "      <th>degree</th>\n",
       "    </tr>\n",
       "  </thead>\n",
       "  <tbody>\n",
       "    <tr>\n",
       "      <th>0</th>\n",
       "      <td>0.00100</td>\n",
       "      <td>101.0</td>\n",
       "      <td>5.0</td>\n",
       "      <td>0.0</td>\n",
       "      <td>1.322286</td>\n",
       "      <td>23.626817</td>\n",
       "      <td>39.041941</td>\n",
       "      <td>12.550592</td>\n",
       "      <td>23.626817</td>\n",
       "      <td>39.041941</td>\n",
       "      <td>12.550592</td>\n",
       "      <td>23.499264</td>\n",
       "      <td>38.846813</td>\n",
       "      <td>12.435589</td>\n",
       "      <td>SimpsonIntegration</td>\n",
       "      <td>0</td>\n",
       "    </tr>\n",
       "    <tr>\n",
       "      <th>1</th>\n",
       "      <td>0.00100</td>\n",
       "      <td>101.0</td>\n",
       "      <td>5.0</td>\n",
       "      <td>1.0</td>\n",
       "      <td>1.322286</td>\n",
       "      <td>23.626817</td>\n",
       "      <td>39.041941</td>\n",
       "      <td>12.550592</td>\n",
       "      <td>23.626817</td>\n",
       "      <td>39.041941</td>\n",
       "      <td>12.550592</td>\n",
       "      <td>23.626889</td>\n",
       "      <td>39.023934</td>\n",
       "      <td>12.538882</td>\n",
       "      <td>SimpsonIntegration</td>\n",
       "      <td>0</td>\n",
       "    </tr>\n",
       "    <tr>\n",
       "      <th>2</th>\n",
       "      <td>0.00001</td>\n",
       "      <td>101.0</td>\n",
       "      <td>5.0</td>\n",
       "      <td>0.0</td>\n",
       "      <td>1.322286</td>\n",
       "      <td>23.626817</td>\n",
       "      <td>23.759264</td>\n",
       "      <td>23.494807</td>\n",
       "      <td>23.626817</td>\n",
       "      <td>23.759264</td>\n",
       "      <td>23.494807</td>\n",
       "      <td>23.499264</td>\n",
       "      <td>23.646164</td>\n",
       "      <td>23.352299</td>\n",
       "      <td>SimpsonIntegration</td>\n",
       "      <td>0</td>\n",
       "    </tr>\n",
       "    <tr>\n",
       "      <th>3</th>\n",
       "      <td>0.00001</td>\n",
       "      <td>101.0</td>\n",
       "      <td>5.0</td>\n",
       "      <td>1.0</td>\n",
       "      <td>1.322286</td>\n",
       "      <td>23.626817</td>\n",
       "      <td>23.759264</td>\n",
       "      <td>23.494807</td>\n",
       "      <td>23.626817</td>\n",
       "      <td>23.759264</td>\n",
       "      <td>23.494807</td>\n",
       "      <td>23.626889</td>\n",
       "      <td>23.759382</td>\n",
       "      <td>23.494832</td>\n",
       "      <td>SimpsonIntegration</td>\n",
       "      <td>0</td>\n",
       "    </tr>\n",
       "    <tr>\n",
       "      <th>0</th>\n",
       "      <td>0.00100</td>\n",
       "      <td>101.0</td>\n",
       "      <td>5.0</td>\n",
       "      <td>0.0</td>\n",
       "      <td>1.322286</td>\n",
       "      <td>23.626817</td>\n",
       "      <td>39.041941</td>\n",
       "      <td>12.550592</td>\n",
       "      <td>23.626817</td>\n",
       "      <td>39.041941</td>\n",
       "      <td>12.550592</td>\n",
       "      <td>23.581321</td>\n",
       "      <td>38.974721</td>\n",
       "      <td>12.497622</td>\n",
       "      <td>CubicSplineExactIntegration</td>\n",
       "      <td>0</td>\n",
       "    </tr>\n",
       "    <tr>\n",
       "      <th>1</th>\n",
       "      <td>0.00100</td>\n",
       "      <td>101.0</td>\n",
       "      <td>5.0</td>\n",
       "      <td>1.0</td>\n",
       "      <td>1.322286</td>\n",
       "      <td>23.626817</td>\n",
       "      <td>39.041941</td>\n",
       "      <td>12.550592</td>\n",
       "      <td>23.626817</td>\n",
       "      <td>39.041941</td>\n",
       "      <td>12.550592</td>\n",
       "      <td>23.625882</td>\n",
       "      <td>39.040917</td>\n",
       "      <td>12.549758</td>\n",
       "      <td>CubicSplineExactIntegration</td>\n",
       "      <td>0</td>\n",
       "    </tr>\n",
       "    <tr>\n",
       "      <th>2</th>\n",
       "      <td>0.00001</td>\n",
       "      <td>101.0</td>\n",
       "      <td>5.0</td>\n",
       "      <td>0.0</td>\n",
       "      <td>1.322286</td>\n",
       "      <td>23.626817</td>\n",
       "      <td>23.759264</td>\n",
       "      <td>23.494807</td>\n",
       "      <td>23.626817</td>\n",
       "      <td>23.759264</td>\n",
       "      <td>23.494807</td>\n",
       "      <td>23.581321</td>\n",
       "      <td>23.723727</td>\n",
       "      <td>23.438851</td>\n",
       "      <td>CubicSplineExactIntegration</td>\n",
       "      <td>0</td>\n",
       "    </tr>\n",
       "    <tr>\n",
       "      <th>3</th>\n",
       "      <td>0.00001</td>\n",
       "      <td>101.0</td>\n",
       "      <td>5.0</td>\n",
       "      <td>1.0</td>\n",
       "      <td>1.322286</td>\n",
       "      <td>23.626817</td>\n",
       "      <td>23.759264</td>\n",
       "      <td>23.494807</td>\n",
       "      <td>23.626817</td>\n",
       "      <td>23.759264</td>\n",
       "      <td>23.494807</td>\n",
       "      <td>23.625882</td>\n",
       "      <td>23.758328</td>\n",
       "      <td>23.493873</td>\n",
       "      <td>CubicSplineExactIntegration</td>\n",
       "      <td>0</td>\n",
       "    </tr>\n",
       "    <tr>\n",
       "      <th>0</th>\n",
       "      <td>0.00100</td>\n",
       "      <td>101.0</td>\n",
       "      <td>5.0</td>\n",
       "      <td>0.0</td>\n",
       "      <td>1.322286</td>\n",
       "      <td>23.626817</td>\n",
       "      <td>39.041941</td>\n",
       "      <td>12.550592</td>\n",
       "      <td>23.626817</td>\n",
       "      <td>39.041941</td>\n",
       "      <td>12.550592</td>\n",
       "      <td>8.027450</td>\n",
       "      <td>53.812891</td>\n",
       "      <td>0.284467</td>\n",
       "      <td>HermiteIntegration_3</td>\n",
       "      <td>3</td>\n",
       "    </tr>\n",
       "    <tr>\n",
       "      <th>1</th>\n",
       "      <td>0.00100</td>\n",
       "      <td>101.0</td>\n",
       "      <td>5.0</td>\n",
       "      <td>1.0</td>\n",
       "      <td>1.322286</td>\n",
       "      <td>23.626817</td>\n",
       "      <td>39.041941</td>\n",
       "      <td>12.550592</td>\n",
       "      <td>23.626817</td>\n",
       "      <td>39.041941</td>\n",
       "      <td>12.550592</td>\n",
       "      <td>-3099.471375</td>\n",
       "      <td>-3091.020487</td>\n",
       "      <td>-3101.998232</td>\n",
       "      <td>HermiteIntegration_3</td>\n",
       "      <td>3</td>\n",
       "    </tr>\n",
       "  </tbody>\n",
       "</table>\n",
       "</div>"
      ],
      "text/plain": [
       "         h  n_grid_points  lambda_std_devs  break_even      Vega         B0  \\\n",
       "0  0.00100          101.0              5.0         0.0  1.322286  23.626817   \n",
       "1  0.00100          101.0              5.0         1.0  1.322286  23.626817   \n",
       "2  0.00001          101.0              5.0         0.0  1.322286  23.626817   \n",
       "3  0.00001          101.0              5.0         1.0  1.322286  23.626817   \n",
       "0  0.00100          101.0              5.0         0.0  1.322286  23.626817   \n",
       "1  0.00100          101.0              5.0         1.0  1.322286  23.626817   \n",
       "2  0.00001          101.0              5.0         0.0  1.322286  23.626817   \n",
       "3  0.00001          101.0              5.0         1.0  1.322286  23.626817   \n",
       "0  0.00100          101.0              5.0         0.0  1.322286  23.626817   \n",
       "1  0.00100          101.0              5.0         1.0  1.322286  23.626817   \n",
       "\n",
       "          Bp         Bm         H0         Hp         Hm           I0  \\\n",
       "0  39.041941  12.550592  23.626817  39.041941  12.550592    23.499264   \n",
       "1  39.041941  12.550592  23.626817  39.041941  12.550592    23.626889   \n",
       "2  23.759264  23.494807  23.626817  23.759264  23.494807    23.499264   \n",
       "3  23.759264  23.494807  23.626817  23.759264  23.494807    23.626889   \n",
       "0  39.041941  12.550592  23.626817  39.041941  12.550592    23.581321   \n",
       "1  39.041941  12.550592  23.626817  39.041941  12.550592    23.625882   \n",
       "2  23.759264  23.494807  23.626817  23.759264  23.494807    23.581321   \n",
       "3  23.759264  23.494807  23.626817  23.759264  23.494807    23.625882   \n",
       "0  39.041941  12.550592  23.626817  39.041941  12.550592     8.027450   \n",
       "1  39.041941  12.550592  23.626817  39.041941  12.550592 -3099.471375   \n",
       "\n",
       "            Ip           Im   density_integration_method  degree  \n",
       "0    38.846813    12.435589           SimpsonIntegration       0  \n",
       "1    39.023934    12.538882           SimpsonIntegration       0  \n",
       "2    23.646164    23.352299           SimpsonIntegration       0  \n",
       "3    23.759382    23.494832           SimpsonIntegration       0  \n",
       "0    38.974721    12.497622  CubicSplineExactIntegration       0  \n",
       "1    39.040917    12.549758  CubicSplineExactIntegration       0  \n",
       "2    23.723727    23.438851  CubicSplineExactIntegration       0  \n",
       "3    23.758328    23.493873  CubicSplineExactIntegration       0  \n",
       "0    53.812891     0.284467         HermiteIntegration_3       3  \n",
       "1 -3091.020487 -3101.998232         HermiteIntegration_3       3  "
      ]
     },
     "execution_count": 252,
     "metadata": {},
     "output_type": "execute_result"
    }
   ],
   "source": [
    "idx = table['density_integration_method'] == 'HermiteIntegration'\n",
    "table.loc[idx,'density_integration_method'] = table.loc[idx]['density_integration_method'] + '_' + table.loc[idx]['degree'].astype(str)\n",
    "table.head(10)"
   ]
  },
  {
   "cell_type": "code",
   "execution_count": 253,
   "metadata": {},
   "outputs": [
    {
     "name": "stdout",
     "output_type": "stream",
     "text": [
      "Multiple integration methods were given, only one can be executed, default: Two-sided\n"
     ]
    },
    {
     "data": {
      "image/png": "[encoded data removed]",
      "text/plain": [
       "<Figure size 432x288 with 1 Axes>"
      ]
     },
     "metadata": {
      "needs_background": "light"
     },
     "output_type": "display_data"
    }
   ],
   "source": [
    "plotRelativeError2(d,'I',leg1='density_integration_method',leg2='break_even',title='SimpsonIntegration')"
   ]
  },
  {
   "cell_type": "code",
   "execution_count": 79,
   "metadata": {},
   "outputs": [
    {
     "data": {
      "text/plain": [
       "False"
      ]
     },
     "execution_count": 79,
     "metadata": {},
     "output_type": "execute_result"
    }
   ],
   "source": []
  },
  {
   "cell_type": "code",
   "execution_count": null,
   "metadata": {},
   "outputs": [],
   "source": []
  }
 ],
 "metadata": {
  "kernelspec": {
   "display_name": "Python 3",
   "language": "python",
   "name": "python3"
  },
  "language_info": {
   "codemirror_mode": {
    "name": "ipython",
    "version": 3
   },
   "file_extension": ".py",
   "mimetype": "text/x-python",
   "name": "python",
   "nbconvert_exporter": "python",
   "pygments_lexer": "ipython3",
   "version": "3.7.0"
  }
 },
 "nbformat": 4,
 "nbformat_minor": 2
}
